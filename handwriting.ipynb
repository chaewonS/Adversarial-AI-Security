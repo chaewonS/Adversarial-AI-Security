{
  "nbformat": 4,
  "nbformat_minor": 0,
  "metadata": {
    "colab": {
      "name": "handwriting_문제.ipynb",
      "provenance": [],
      "collapsed_sections": []
    },
    "kernelspec": {
      "name": "python3",
      "display_name": "Python 3"
    },
    "language_info": {
      "name": "python"
    }
  },
  "cells": [
    {
      "cell_type": "markdown",
      "metadata": {
        "id": "JbD-WRCekMvs"
      },
      "source": [
        "[실습 Quiz 04-01] 손글씨 분류하기"
      ]
    },
    {
      "cell_type": "code",
      "metadata": {
        "id": "lUgaZIaxj0CB"
      },
      "source": [
        "import numpy as np\n",
        "import random\n",
        "\n",
        "from sklearn.model_selection import train_test_split\n",
        "from sklearn.datasets import load_digits\n",
        "from sklearn.neural_network import MLPClassifier"
      ],
      "execution_count": 140,
      "outputs": []
    },
    {
      "cell_type": "code",
      "metadata": {
        "id": "KvAD6wFMlJyt"
      },
      "source": [
        "np.random.seed(100)"
      ],
      "execution_count": 141,
      "outputs": []
    },
    {
      "cell_type": "code",
      "metadata": {
        "id": "qjr4aznolXYF"
      },
      "source": [
        "\"\"\"\n",
        "1. 손글씨 데이터를 X, Y로 읽어온 후 \n",
        "   학습 데이터, 테스트 데이터로 나눕니다. \n",
        "   \n",
        "   Step01. 학습 데이터는 앞의 1600개를 사용하고, \n",
        "           테스트 데이터는 학습 데이터를 제외한 나머지를 사용합니다.\n",
        "           X, Y 데이터의 타입은 Numpy array라는 것을 참고하세요.\n",
        "\"\"\"\n",
        "def load_data(X, Y):\n",
        "\n",
        "    X_train = X[:1601]\n",
        "    Y_train = Y[:1601]\n",
        "    X_test = X[-1601:]\n",
        "    Y_test = Y[-1601:]\n",
        "      \n",
        "    return X_train, Y_train, X_test, Y_test"
      ],
      "execution_count": 142,
      "outputs": []
    },
    {
      "cell_type": "code",
      "metadata": {
        "id": "R_fq3C5Ul6LU"
      },
      "source": [
        "'''\n",
        "2. MLPClassifier를 정의하고 hidden_layer_sizes를\n",
        "   조정해 hidden layer의 크기 및 레이어의 개수를\n",
        "   바꿔본 후, 학습을 시킵니다.\n",
        "'''\n",
        "\n",
        "def train_MLP_classifier(X, Y):\n",
        "    \n",
        "    clf = MLPClassifier(hidden_layer_sizes=(30,30))\n",
        "    \n",
        "    # 학습\n",
        "    clf.fit(X_train, Y_train)\n",
        "    \n",
        "    return clf"
      ],
      "execution_count": 143,
      "outputs": []
    },
    {
      "cell_type": "code",
      "metadata": {
        "id": "sXVWSx_GmBfL"
      },
      "source": [
        "'''\n",
        "3. 정확도를 출력하는 함수를 완성합니다. \n",
        "   이전 실습에서 작성한 'score'를 그대로 \n",
        "   사용할 수 있습니다.\n",
        "'''\n",
        "\n",
        "def report_clf_stats(clf, X, Y):\n",
        "    \n",
        "    hit = 0\n",
        "    miss = 0\n",
        "    \n",
        "    for x, y in zip(X, Y):\n",
        "        if clf.predict([x])[0] == y:\n",
        "            hit += 1\n",
        "        else:\n",
        "            miss += 1\n",
        "    \n",
        "    score = hit/len(X)*100\n",
        "    \n",
        "    print(\"Accuracy: %.1lf%% (%d hit / %d miss)\" % (score, hit, miss))"
      ],
      "execution_count": 144,
      "outputs": []
    },
    {
      "cell_type": "code",
      "metadata": {
        "id": "yoLAEBHNmcvu"
      },
      "source": [
        "# Step01. 훈련용 데이터와 테스트용 데이터를 앞에서 완성한 함수를 이용해 불러옵니다.  \n",
        "\n",
        "digits = load_digits()\n",
        "    \n",
        "X = digits.data\n",
        "Y = digits.target\n",
        "    \n",
        "X_train, Y_train, X_test, Y_test = load_data(X, Y)\n",
        "\n",
        "# train_test_split(X,Y,test_size=0.4)"
      ],
      "execution_count": 145,
      "outputs": []
    },
    {
      "cell_type": "code",
      "metadata": {
        "id": "YDLDtXi7mKS5"
      },
      "source": [
        "# Step02. 앞에서 학습시킨 다층 퍼셉트론 분류 모델을 'clf'로 정의합니다.\n",
        "clf = train_MLP_classifier(X_train, Y_train)"
      ],
      "execution_count": 146,
      "outputs": []
    },
    {
      "cell_type": "code",
      "metadata": {
        "colab": {
          "base_uri": "https://localhost:8080/"
        },
        "id": "QHxcywMEmZtf",
        "outputId": "85f109a6-edce-449d-b848-cfd1fb744806"
      },
      "source": [
        "# Step03. 앞에서 완성한 정확도 출력 함수를 'score'로 정의합니다.\n",
        "score = report_clf_stats(clf, X_test, Y_test)"
      ],
      "execution_count": 147,
      "outputs": [
        {
          "output_type": "stream",
          "text": [
            "Accuracy: 99.1% (1586 hit / 15 miss)\n"
          ],
          "name": "stdout"
        }
      ]
    }
  ]
}
